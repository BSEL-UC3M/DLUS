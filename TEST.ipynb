{
 "cells": [
  {
   "cell_type": "code",
   "execution_count": 1,
   "id": "578538a7",
   "metadata": {},
   "outputs": [
    {
     "name": "stdout",
     "output_type": "stream",
     "text": [
      "/home/igt/Projects/PerPlanRT/GITHUB/Input/PRUEBAS .. exists\n",
      "/home/igt/Projects/PerPlanRT/GITHUB/Output/PRUEBAS/CT .. exists\n"
     ]
    }
   ],
   "source": [
    "# Imports\n",
    "import os\n",
    "import numpy as np\n",
    "import SimpleITK as sitk\n",
    "import multiprocessing\n",
    "from glob import glob\n",
    "import pandas as pd\n",
    "import time\n",
    "import warnings\n",
    "\n",
    "from utils.utilities import check_if_exist\n",
    "from utils.load_data import load_data\n",
    "from utils.voi_extraction import run_voi_extraction\n",
    "from utils.postprocessing import postprocessing_native, export2dicomRT\n",
    "from utils.dm_computation import dm_computation\n",
    "\n",
    "# Set up paths\n",
    "ddbb      = 'PRUEBAS'\n",
    "mode      = 'dicom' #'nifti'\n",
    "modality  = 'CT'\n",
    "model     = 'FR_model' #'Mixed_model'\n",
    "use_manual_OARs = True # False\n",
    "data_path = os.getcwd()+'/Input/'+ddbb\n",
    "check_if_exist(data_path, create=False) # Check that the path exists\n",
    "out_path  = os.path.join(os.getcwd(), 'Output', ddbb, modality)\n",
    "check_if_exist(out_path)"
   ]
  },
  {
   "cell_type": "code",
   "execution_count": 2,
   "id": "27c0860a",
   "metadata": {},
   "outputs": [
    {
     "name": "stdout",
     "output_type": "stream",
     "text": [
      "-------------------------------------------------------------------------------------------------------\n",
      "1. LOADING ORIGINAL IMAGES...\n",
      "-------------------------------------------------------------------------------------------------------\n",
      "Loading data...\n",
      "\n",
      "Processing case:  0001\n",
      "----- CT Image -----\n",
      "/home/igt/Projects/PerPlanRT/GITHUB/Input/PRUEBAS/0001/CT\n",
      "(-346.0, -261.0, -260.0)\n",
      "(1.359375, 1.359375, 1.0)\n",
      "(512, 512, 366)\n",
      "Saving... /home/igt/Projects/PerPlanRT/GITHUB/Output/PRUEBAS/CT/CTs/PRUEBAS_0001_0000.nii.gz\n",
      "----- Segmentation -----\n",
      "['PTV', 'Prostate-CTV', 'Voptim', 'Rectum', 'Bladder', 'Bowel', 'Penile Bulb', 'Left Femoral Head', 'Right Femoral Head', 'BrasDensite0', 'Skin', 'teteFdt+G', 'prostate', 'pv', 'pr', 'Overlapspv', 'Overlapspr', 'Overlapsrectu', 'Overlapsvesiie', 'sigmoide']\n",
      "No seminal vesicles in manual OARs segmentations\n",
      "['Rectum', 'Bladder', 'prostate']\n",
      "Labels:  [0 1 2 3]\n",
      "Saving... /home/igt/Projects/PerPlanRT/GITHUB/Output/PRUEBAS/CT/GTs/0001/labelMap.nii.gz\n",
      "\n",
      "Processing case:  1002\n",
      "----- CT Image -----\n",
      "/home/igt/Projects/PerPlanRT/GITHUB/Input/PRUEBAS/1002/CT\n",
      "(-253.0, -134.0, -1089.5)\n",
      "(0.976563, 0.976563, 3.0)\n",
      "(512, 512, 151)\n",
      "Saving... /home/igt/Projects/PerPlanRT/GITHUB/Output/PRUEBAS/CT/CTs/PRUEBAS_1002_0000.nii.gz\n"
     ]
    }
   ],
   "source": [
    "start_ini = time.time()\n",
    "# 1. Load patients (DICOM or NIfTI images)\n",
    "print(\"-------------------------------------------------------------------------------------------------------\")\n",
    "print(\"1. LOADING ORIGINAL IMAGES...\")\n",
    "print(\"-------------------------------------------------------------------------------------------------------\")\n",
    "# CT and MR data have to be loaded separately, to indicate if they are in DICOM or NIfTI format\n",
    "load_data(data_path, out_path, mode, modality=modality)"
   ]
  },
  {
   "cell_type": "code",
   "execution_count": 3,
   "id": "356c68e0",
   "metadata": {},
   "outputs": [
    {
     "name": "stdout",
     "output_type": "stream",
     "text": [
      "-------------------------------------------------------------------------------------------------------\n",
      "2. VOI EXTRACTION...\n",
      "-------------------------------------------------------------------------------------------------------\n",
      "/home/igt/Projects/PerPlanRT/GITHUB/Output/PRUEBAS/CT/mVOIs/imagesTs .. exists\n",
      "/home/igt/Projects/PerPlanRT/GITHUB/Output/PRUEBAS/CT/OARs/manual .. exists\n",
      "\n",
      "Processing case:  0001\n",
      "x: 362.93919398813205 y: 343.7555616651774 z: 147.07819552317457\n",
      "x_offset 250 : 474 y_offset 231 : 455 z_offset 35 : 259\n",
      "(366, 696, 696)\n",
      "Saving... /home/igt/Projects/PerPlanRT/GITHUB/Output/PRUEBAS/CT/mVOIs/imagesTs/PRUEBAS_0001_0000.nii.gz\n",
      "x_offset 250 : 474 y_offset 231 : 455 z_offset 35 : 259\n",
      "(366, 696, 696)\n"
     ]
    }
   ],
   "source": [
    "# 2. VOI Extraction: Localization Network + Crop using the centroid of the coarse segmentation. Check the result to ensure that\n",
    "# appropriate VOI has been created. Sometimes some images are not well predicted and it's necessary to modify this VOI manually\n",
    "# to ensure that the OARs and urethra segmentations are accurate.\n",
    "print(\"-------------------------------------------------------------------------------------------------------\")\n",
    "print(\"2. VOI EXTRACTION...\")\n",
    "print(\"-------------------------------------------------------------------------------------------------------\")\n",
    "checkpoint_path = os.getcwd()+'/networks/LocalizationNet/LocalizationNet_weights.best.hdf5'\n",
    "dir_ddbb     = os.path.join(out_path, modality+'s')\n",
    "if use_manual_OARs: \n",
    "    check_if_exist(os.path.join(out_path, 'mVOIs', 'imagesTs')) # Path to save generated VOIs\n",
    "    check_if_exist(os.path.join(out_path, 'OARs', 'manual'))\n",
    "else: check_if_exist(os.path.join(out_path, 'VOIs', 'imagesTs')) # Path to save generated VOIs\n",
    "\n",
    "p = multiprocessing.Process(target=run_voi_extraction, args=(checkpoint_path, out_path, dir_ddbb, use_manual_OARs))\n",
    "p.start()\n",
    "p.join()"
   ]
  },
  {
   "cell_type": "code",
   "execution_count": 4,
   "id": "6edf2e86",
   "metadata": {},
   "outputs": [
    {
     "name": "stdout",
     "output_type": "stream",
     "text": [
      "-------------------------------------------------------------------------------------------------------\n",
      "3. OARs SEGMENTATION (OUTPUT 1)...\n",
      "-------------------------------------------------------------------------------------------------------\n"
     ]
    }
   ],
   "source": [
    "# 3. OARs Segmentation: Fine Segmentation Network\n",
    "print(\"-------------------------------------------------------------------------------------------------------\")\n",
    "print(\"3. OARs SEGMENTATION (OUTPUT 1)...\")\n",
    "print(\"-------------------------------------------------------------------------------------------------------\")\n",
    "# Environmnet Variables\n",
    "main_dir  = os.path.join(os.getcwd(), 'networks/SegmentationNet/nnUNet')\n",
    "# Can be set in the the .bashrc file or exported in the terminal:\n",
    "os.environ['nnUNet_raw_data_base'] = os.path.join(main_dir,'nnUNet_raw_data_base')\n",
    "os.environ['nnUNet_preprocessed']  = os.path.join(main_dir,'nnUNet_preprocessed')\n",
    "os.environ['RESULTS_FOLDER']       = os.path.join(main_dir,'nnUNet_trained_models')\n",
    "os.environ['MKL_SERVICE_FORCE_INTEL'] = \"1\"\n",
    "\n",
    "if use_manual_OARs:\n",
    "    model = 'manual'\n",
    "    path_imgs    = os.path.join(out_path, 'mVOIs', 'imagesTs')\n",
    "    dir_ddbb_OARs = os.path.join(out_path, 'OARs', model)\n",
    "\n",
    "else:\n",
    "    path_imgs    = os.path.join(out_path, 'VOIs', 'imagesTs')\n",
    "    dir_ddbb_OARs = os.path.join(out_path, 'OARs', model)\n",
    "\n",
    "    # Predict OAR segmentations (rectum, bladder, prostate, seminal vesicles)\n",
    "    if model=='FR_model':\n",
    "        !nnUNet_predict -i {path_imgs} -o {dir_ddbb_OARs} -t 112 -tr nnUNetTrainerV2 -ctr nnUNetTrainerV2CascadeFullRes -m 3d_fullres -p nnUNetPlansv2.1 --disable_tta\n",
    "\n",
    "    if model=='Mixed_model':\n",
    "        !nnUNet_predict -i {path_imgs} -o {dir_ddbb_OARs} -t 113 -tr nnUNetTrainerV2 -ctr nnUNetTrainerV2CascadeFullRes -m 3d_fullres -p nnUNetPlansv2.1 --disable_tta\n",
    "\n",
    "    for i, file_OARs in enumerate(sorted(glob(dir_ddbb_OARs + r'/*.nii.gz'))):\n",
    "        idx = file_OARs.split('/')[-1].split('_')[-1].split('.')[0]\n",
    "        print(file_OARs)\n",
    "        out_OARs  = sitk.ReadImage(file_OARs)\n",
    "        out_VOI   = sitk.ReadImage(os.path.join(path_imgs, ddbb+'_'+idx+'_0000.nii.gz'))\n",
    "\n",
    "        # 3.1 Post-processing to Native space\n",
    "        print(\"3.1 OARs SEGMENTATION POST-PROCESSING TO NATIVE SPACE -------------------------------------------------\")\n",
    "        postprocessing_native(out_OARs, out_path, str(idx),'OARs', ddbb, modality)\n",
    "        postprocessing_native(out_VOI, out_path, str(idx),'VOI', ddbb, modality)\n",
    "\n",
    "        # 3.2 Exportation to Dicom-RT\n",
    "        print(\"3.2 OARs SEGMENTATION EXPORTATION TO DICOM-RT ---------------------------------------------------------\")\n",
    "        img_file  = os.path.join(out_path, 'Native', str(idx), ddbb+'_'+str(idx)+'_VOI.nii.gz')\n",
    "        seg_file = os.path.join(out_path, 'Native', str(idx), ddbb+'_'+str(idx)+'_OARs.nii.gz')\n",
    "        save_path = os.path.join(out_path, 'Native', 'DICOM', str(idx))\n",
    "        # For the moment, we can only translate CTs and their segmentations to DICOM; not MR images\n",
    "        if modality=='CT':\n",
    "            export2dicomRT(img_file, seg_file, save_path, 'OARs_DLUS', modality)"
   ]
  },
  {
   "cell_type": "code",
   "execution_count": 4,
   "id": "12666bb8",
   "metadata": {},
   "outputs": [
    {
     "name": "stdout",
     "output_type": "stream",
     "text": [
      "-------------------------------------------------------------------------------------------------------\n",
      "4. DISTANCE MAP COMPUTATION...\n",
      "-------------------------------------------------------------------------------------------------------\n",
      "/home/igt/Projects/PerPlanRT/GITHUB/Output/PRUEBAS/CT/mDistanceMaps/imagesTs .. exists\n",
      "\n",
      "Processing case:  0001\n",
      "--- Processing DM total : 18.570481777191162 seconds ---\n",
      "Saving... /home/igt/Projects/PerPlanRT/GITHUB/Output/PRUEBAS/CT/mDistanceMaps/imagesTs/PRUEBAS_0001_0000.nii.gz\n"
     ]
    }
   ],
   "source": [
    "# 4. DISTANCE MAP COMPUTATION\n",
    "print(\"-------------------------------------------------------------------------------------------------------\")\n",
    "print(\"4. DISTANCE MAP COMPUTATION...\")\n",
    "print(\"-------------------------------------------------------------------------------------------------------\")\n",
    "if use_manual_OARs: check_if_exist(os.path.join(out_path, 'mDistanceMaps', 'imagesTs'))\n",
    "else: check_if_exist(os.path.join(out_path, 'DistanceMaps', 'imagesTs'))\n",
    "# Bladder & Prostate Segmentation and DM Computation\n",
    "dm_computation(dir_ddbb, out_path, model, use_manual_OARs)"
   ]
  },
  {
   "cell_type": "code",
   "execution_count": 5,
   "id": "708ed3e4",
   "metadata": {},
   "outputs": [
    {
     "name": "stdout",
     "output_type": "stream",
     "text": [
      "-------------------------------------------------------------------------------------------------------\n",
      "5. URETHRA SEGMENTATION\n",
      "-------------------------------------------------------------------------------------------------------\n",
      "\n",
      "\n",
      "Please cite the following paper when using nnUNet:\n",
      "\n",
      "Isensee, F., Jaeger, P.F., Kohl, S.A.A. et al. \"nnU-Net: a self-configuring method for deep learning-based biomedical image segmentation.\" Nat Methods (2020). https://doi.org/10.1038/s41592-020-01008-z\n",
      "\n",
      "\n",
      "If you have questions or suggestions, feel free to open an issue at https://github.com/MIC-DKFZ/nnUNet\n",
      "\n",
      "nnUNet_raw_data_base is not defined and nnU-Net can only be used on data for which preprocessed files are already present on your system. nnU-Net cannot be used for experiment planning and preprocessing like this. If this is not intended, please read documentation/setting_up_paths.md for information on how to set this up properly.\n",
      "nnUNet_preprocessed is not defined and nnU-Net can not be used for preprocessing or training. If this is not intended, please read documentation/setting_up_paths.md for information on how to set this up.\n",
      "RESULTS_FOLDER is not defined and nnU-Net cannot be used for training or inference. If this is not intended behavior, please read documentation/setting_up_paths.md for information on how to set this up.\n",
      "Traceback (most recent call last):\n",
      "  File \"/home/igt/miniconda3/envs/PerPlanRT_env/bin/nnUNet_predict\", line 33, in <module>\n",
      "    sys.exit(load_entry_point('nnunet', 'console_scripts', 'nnUNet_predict')())\n",
      "  File \"/home/igt/nnUNet/nnunet/inference/predict_simple.py\", line 151, in main\n",
      "    task_name = convert_id_to_task_name(task_id)\n",
      "  File \"/home/igt/nnUNet/nnunet/utilities/task_name_id_conversion.py\", line 51, in convert_id_to_task_name\n",
      "    raise RuntimeError(\"Could not find a task with the ID %d. Make sure the requested task ID exists and that \"\n",
      "RuntimeError: Could not find a task with the ID 108. Make sure the requested task ID exists and that nnU-Net knows where raw and preprocessed data are located (see Documentation - Installation). Here are your currently defined folders:\n",
      "nnUNet_preprocessed=None\n",
      "RESULTS_FOLDER=None\n",
      "nnUNet_raw_data_base=None\n",
      "If something is not right, adapt your environemnt variables.\n"
     ]
    }
   ],
   "source": [
    "# 5. URETHRA SEGMENTATION\n",
    "print(\"-------------------------------------------------------------------------------------------------------\")\n",
    "print(\"5. URETHRA SEGMENTATION\")\n",
    "print(\"-------------------------------------------------------------------------------------------------------\")\n",
    "\n",
    "if use_manual_OARs:\n",
    "    path_dm = os.path.join(out_path, 'mDistanceMaps', 'imagesTs')\n",
    "    dir_ddbb_uretra = os.path.join(out_path, 'Urethra', 'manual')\n",
    "else:\n",
    "    path_dm = os.path.join(out_path, 'DistanceMaps', 'imagesTs')\n",
    "    dir_ddbb_uretra = os.path.join(out_path, 'Urethra', 'DLUS')\n",
    "\n",
    "!nnUNet_predict -i {path_dm} -o {dir_ddbb_uretra} -t 108 -tr nnUNetTrainerV2 -ctr nnUNetTrainerV2CascadeFullRes -m 3d_fullres -p nnUNetPlansv2.1 --disable_tta"
   ]
  },
  {
   "cell_type": "code",
   "execution_count": 7,
   "id": "8c470c46",
   "metadata": {},
   "outputs": [],
   "source": [
    "for i, file_out_urethra in enumerate(sorted(glob(dir_ddbb_uretra + r'/*.nii.gz'))):\n",
    "    idx = file_out_urethra.split('/')[-1].split('_')[-1].split('.')[0]\n",
    "    print(file_out_urethra)\n",
    "    out_urethra = sitk.ReadImage(file_out_urethra)\n",
    "    \n",
    "    # 5.1 Post-processing to Native space\n",
    "    print(\"5.1 URETHRA SEGMENTATION POST-PROCESSING TO NATIVE SPACE ----------------------------------------------\")\n",
    "    if use_manual_OARs:    postprocessing_native(out_urethra, out_path, str(idx),'m_urethra', ddbb, modality)\n",
    "    else: postprocessing_native(out_urethra, out_path, str(idx),'urethra', ddbb, modality)\n",
    "    \n",
    "    # 5.2 Exportation to Dicom-RT\n",
    "    print(\"5.2 URETHRA SEGMENTATION EXPORTATION TO DICOM-RT ------------------------------------------------------\")\n",
    "    img_file  = os.path.join(out_path, 'Native', str(idx), ddbb+'_'+str(idx)+'_VOI.nii.gz')\n",
    "    seg_file = os.path.join(out_path, 'Native', str(idx), ddbb+'_'+str(idx)+'_urethra.nii.gz')\n",
    "    save_path = os.path.join(out_path, 'Native', 'DICOM', str(idx))\n",
    "    # For the moment, we can only translate CTs and their segmentations to DICOM; not MR images\n",
    "    if modality=='CT':\n",
    "        export2dicomRT(img_file, seg_file, save_path, 'urethra_DLUS', modality)\n",
    "\n",
    "print(\"--- Total Execution Time: %s seconds ---\" % (time.time() - start_ini))"
   ]
  },
  {
   "cell_type": "code",
   "execution_count": null,
   "id": "7d3ed9e4",
   "metadata": {},
   "outputs": [],
   "source": []
  }
 ],
 "metadata": {
  "kernelspec": {
   "display_name": "Python 3 (ipykernel)",
   "language": "python",
   "name": "python3"
  },
  "language_info": {
   "codemirror_mode": {
    "name": "ipython",
    "version": 3
   },
   "file_extension": ".py",
   "mimetype": "text/x-python",
   "name": "python",
   "nbconvert_exporter": "python",
   "pygments_lexer": "ipython3",
   "version": "3.9.7"
  }
 },
 "nbformat": 4,
 "nbformat_minor": 5
}
